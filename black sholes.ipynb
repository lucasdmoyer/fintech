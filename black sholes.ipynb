{
 "cells": [
  {
   "cell_type": "code",
   "execution_count": 1,
   "metadata": {},
   "outputs": [],
   "source": [
    "import scipy.stats as sp\n",
    "import numpy as np\n",
    "import matplotlib.pyplot as plt"
   ]
  },
  {
   "cell_type": "code",
   "execution_count": 2,
   "metadata": {},
   "outputs": [],
   "source": [
    "class BsmModel:\n",
    "    def __init__(self, option_type, price, strike, interest_rate, expiry, volatility, dividend_yield=0):\n",
    "        self.s = price # Underlying asset price\n",
    "        self.k = strike # Option strike K\n",
    "        self.r = interest_rate # Continuous risk fee rate\n",
    "        self.q = dividend_yield # Dividend continuous rate\n",
    "        self.T = expiry # time to expiry (year)\n",
    "        self.sigma = volatility # Underlying volatility\n",
    "        self.type = option_type # option type \"p\" put option \"c\" call option\n",
    "    def n(self, d):\n",
    "        # cumulative probability distribution function of standard normal distribution\n",
    "        return sp.norm.cdf(d)\n",
    "\n",
    "    def dn(self, d):\n",
    "        # the first order derivative of n(d)\n",
    "        return sp.norm.pdf(d)\n",
    "\n",
    "    def d1(self):\n",
    "        d1 = (np.log(self.s / self.k) + (self.r - self.q + self.sigma ** 2 * 0.5) * self.T) / (self.sigma * np.sqrt(self.T))\n",
    "        return d1\n",
    "\n",
    "    def d2(self):\n",
    "        d2 = (np.log(self.s / self.k) + (self.r - self.q - self.sigma ** 2 * 0.5) * self.T) / (self.sigma * np.sqrt(self.T))\n",
    "        return d2\n",
    "\n",
    "    def bsm_price(self):\n",
    "        d1 = self.d1()\n",
    "        d2 = d1 - self.sigma * np.sqrt(self.T)\n",
    "        if self.type == 'c':\n",
    "            price = np.exp(-self.r*self.T) * (self.s * np.exp((self.r - self.q)*self.T) * self.n(d1) - self.k * self.n(d2))\n",
    "            return price\n",
    "        elif self.type == 'p':\n",
    "            price = np.exp(-self.r*self.T) * (self.k * self.n(-d2) - (self.s * np.\n",
    "                                                                      exp((self.r - self.q)*self.T) * self.n(-d1)))\n",
    "            return price\n",
    "        else:\n",
    "            print(\"option type can only be c or p\")"
   ]
  },
  {
   "cell_type": "code",
   "execution_count": 3,
   "metadata": {},
   "outputs": [
    {
     "data": {
      "text/plain": [
       "[<matplotlib.lines.Line2D at 0x20559509688>]"
      ]
     },
     "execution_count": 3,
     "metadata": {},
     "output_type": "execute_result"
    },
    {
     "data": {
      "image/png": "[encoded data removed]",
      "text/plain": [
       "<Figure size 432x288 with 1 Axes>"
      ]
     },
     "metadata": {
      "needs_background": "light"
     },
     "output_type": "display_data"
    }
   ],
   "source": [
    "\n",
    "mu = 0\n",
    "variance = 1\n",
    "x = np.linspace(mu-3*variance,mu+3*variance, 100)\n",
    "y = [sp.norm.pdf(i) for i in x]\n",
    "plt.plot(x,y)\n",
    "d = [-1]\n",
    "plt.plot(d*100,np.linspace(0,sp.norm.pdf(d), 100))"
   ]
  },
  {
   "cell_type": "markdown",
   "metadata": {},
   "source": [
    "### \n",
    "a = BsmModel('c', 42, 35, 0.1, 90.0/365, 0.2)\n",
    "a.bsm_price()"
   ]
  },
  {
   "cell_type": "code",
   "execution_count": 4,
   "metadata": {},
   "outputs": [
    {
     "data": {
      "text/plain": [
       "97.63788194008579"
      ]
     },
     "execution_count": 4,
     "metadata": {},
     "output_type": "execute_result"
    }
   ],
   "source": [
    "# For a call option which expires in 90 days and no dividends paid, the underlying price is $42, \n",
    "#the strike is $35, the risk-free rate is 0.1, the volatility is 0.2.\n",
    "# The price of this option is $6.157.\n",
    "a = BsmModel('c', 846, 800, 0.01, 33/365, .73)\n",
    "a.bsm_price()"
   ]
  },
  {
   "cell_type": "code",
   "execution_count": null,
   "metadata": {},
   "outputs": [],
   "source": []
  }
 ],
 "metadata": {
  "kernelspec": {
   "display_name": "Python (quant)",
   "language": "python",
   "name": "myenv"
  },
  "language_info": {
   "codemirror_mode": {
    "name": "ipython",
    "version": 3
   },
   "file_extension": ".py",
   "mimetype": "text/x-python",
   "name": "python",
   "nbconvert_exporter": "python",
   "pygments_lexer": "ipython3",
   "version": "3.7.9"
  }
 },
 "nbformat": 4,
 "nbformat_minor": 4
}
